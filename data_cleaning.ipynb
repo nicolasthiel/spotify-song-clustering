{
 "cells": [
  {
   "cell_type": "markdown",
   "id": "81f12e23",
   "metadata": {},
   "source": [
    "# Data Cleaning"
   ]
  },
  {
   "cell_type": "code",
   "execution_count": null,
   "id": "446e9785",
   "metadata": {},
   "outputs": [],
   "source": [
    "import pandas as pd\n",
    "import numpy as np\n",
    "import matplotlib.pyplot as plt"
   ]
  },
  {
   "cell_type": "markdown",
   "id": "ba68376c",
   "metadata": {},
   "source": [
    "## Datatypes"
   ]
  },
  {
   "cell_type": "code",
   "execution_count": null,
   "id": "76f51aec",
   "metadata": {},
   "outputs": [],
   "source": [
    "df = pd.read_csv('data/spotify-features_adjusted.csv', sep=';', low_memory=False)"
   ]
  },
  {
   "cell_type": "code",
   "execution_count": null,
   "id": "73591e9c",
   "metadata": {},
   "outputs": [
    {
     "name": "stdout",
     "output_type": "stream",
     "text": [
      "<class 'pandas.core.frame.DataFrame'>\n",
      "RangeIndex: 232725 entries, 0 to 232724\n",
      "Data columns (total 18 columns):\n",
      " #   Column            Non-Null Count   Dtype  \n",
      "---  ------            --------------   -----  \n",
      " 0   genre             232725 non-null  object \n",
      " 1   artist_name       232725 non-null  object \n",
      " 2   track_name        232724 non-null  object \n",
      " 3   track_id          232725 non-null  object \n",
      " 4   popularity        232725 non-null  object \n",
      " 5   acousticness      232725 non-null  object \n",
      " 6   danceability      232725 non-null  float64\n",
      " 7   duration_ms       232725 non-null  int64  \n",
      " 8   energy            232725 non-null  float64\n",
      " 9   instrumentalness  232725 non-null  float64\n",
      " 10  key               232725 non-null  object \n",
      " 11  liveness          232725 non-null  object \n",
      " 12  loudness          232725 non-null  float64\n",
      " 13  mode              232725 non-null  object \n",
      " 14  speechiness       232725 non-null  object \n",
      " 15  tempo             232725 non-null  float64\n",
      " 16  time_signature    232725 non-null  object \n",
      " 17  valence           232725 non-null  float64\n",
      "dtypes: float64(6), int64(1), object(11)\n",
      "memory usage: 32.0+ MB\n"
     ]
    }
   ],
   "source": [
    "df.info()"
   ]
  },
  {
   "cell_type": "code",
   "execution_count": null,
   "id": "18573081",
   "metadata": {},
   "outputs": [
    {
     "name": "stdout",
     "output_type": "stream",
     "text": [
      "<class 'pandas.core.frame.DataFrame'>\n",
      "RangeIndex: 232725 entries, 0 to 232724\n",
      "Data columns (total 18 columns):\n",
      " #   Column            Non-Null Count   Dtype  \n",
      "---  ------            --------------   -----  \n",
      " 0   genre             232725 non-null  object \n",
      " 1   artist_name       232725 non-null  object \n",
      " 2   track_name        232724 non-null  object \n",
      " 3   track_id          232725 non-null  object \n",
      " 4   popularity        232723 non-null  float64\n",
      " 5   acousticness      232724 non-null  float64\n",
      " 6   danceability      232725 non-null  float64\n",
      " 7   duration_ms       232725 non-null  int64  \n",
      " 8   energy            232725 non-null  float64\n",
      " 9   instrumentalness  232725 non-null  float64\n",
      " 10  key               232725 non-null  object \n",
      " 11  liveness          232724 non-null  float64\n",
      " 12  loudness          232725 non-null  float64\n",
      " 13  mode              232725 non-null  object \n",
      " 14  speechiness       232724 non-null  float64\n",
      " 15  tempo             232725 non-null  float64\n",
      " 16  time_signature    232725 non-null  object \n",
      " 17  valence           232725 non-null  float64\n",
      "dtypes: float64(10), int64(1), object(7)\n",
      "memory usage: 32.0+ MB\n"
     ]
    }
   ],
   "source": [
    "continuous_features = ['popularity', 'acousticness', 'danceability', 'energy', 'instrumentalness', 'liveness', 'loudness', 'speechiness', 'tempo', 'valence']\n",
    "categorical_features = ['key', 'mode', 'time_signature']\n",
    "\n",
    "df[continuous_features] = df[continuous_features].apply(pd.to_numeric, errors='coerce')\n",
    "df.info()"
   ]
  },
  {
   "cell_type": "code",
   "execution_count": null,
   "id": "cfdf36fb",
   "metadata": {},
   "outputs": [
    {
     "name": "stdout",
     "output_type": "stream",
     "text": [
      "(232725, 18)\n"
     ]
    },
    {
     "data": {
      "application/vnd.microsoft.datawrangler.viewer.v0+json": {
       "columns": [
        {
         "name": "index",
         "rawType": "object",
         "type": "string"
        },
        {
         "name": "popularity",
         "rawType": "float64",
         "type": "float"
        },
        {
         "name": "acousticness",
         "rawType": "float64",
         "type": "float"
        },
        {
         "name": "danceability",
         "rawType": "float64",
         "type": "float"
        },
        {
         "name": "duration_ms",
         "rawType": "float64",
         "type": "float"
        },
        {
         "name": "energy",
         "rawType": "float64",
         "type": "float"
        },
        {
         "name": "instrumentalness",
         "rawType": "float64",
         "type": "float"
        },
        {
         "name": "liveness",
         "rawType": "float64",
         "type": "float"
        },
        {
         "name": "loudness",
         "rawType": "float64",
         "type": "float"
        },
        {
         "name": "speechiness",
         "rawType": "float64",
         "type": "float"
        },
        {
         "name": "tempo",
         "rawType": "float64",
         "type": "float"
        },
        {
         "name": "valence",
         "rawType": "float64",
         "type": "float"
        }
       ],
       "ref": "5795bc54-b319-4cd4-8562-7bbcfec15395",
       "rows": [
        [
         "count",
         "232723.0",
         "232724.0",
         "232725.0",
         "232725.0",
         "232725.0",
         "232725.0",
         "232724.0",
         "232725.0",
         "232724.0",
         "232725.0",
         "232725.0"
        ],
        [
         "mean",
         "41.12764101528426",
         "0.3685587224996992",
         "0.5543644692233323",
         "235122.3393060479",
         "0.5709576734712645",
         "0.14830123363970352",
         "0.21500943495299152",
         "-9.56988540122462",
         "0.12076542170124267",
         "117.66658489203996",
         "0.4549168559458589"
        ],
        [
         "std",
         "18.189911140501955",
         "0.354767820603092",
         "0.18560822525959605",
         "118935.9092991186",
         "0.2634555621735734",
         "0.30276836432994214",
         "0.1982729975801651",
         "5.998203631890724",
         "0.1855186004612088",
         "30.89890657626728",
         "0.2600654841741866"
        ],
        [
         "min",
         "0.0",
         "0.0",
         "0.0569",
         "15387.0",
         "2.03e-05",
         "0.0",
         "0.00967",
         "-52.457",
         "0.0222",
         "30.379",
         "0.0"
        ],
        [
         "25%",
         "29.0",
         "0.037575",
         "0.435",
         "182857.0",
         "0.385",
         "0.0",
         "0.0974",
         "-11.771",
         "0.0367",
         "92.959",
         "0.237"
        ],
        [
         "50%",
         "43.0",
         "0.232",
         "0.571",
         "220427.0",
         "0.605",
         "4.43e-05",
         "0.128",
         "-7.762",
         "0.0501",
         "115.778",
         "0.444"
        ],
        [
         "75%",
         "55.0",
         "0.722",
         "0.692",
         "265768.0",
         "0.787",
         "0.0358",
         "0.264",
         "-5.501",
         "0.105",
         "139.054",
         "0.66"
        ],
        [
         "max",
         "100.0",
         "0.996",
         "0.989",
         "5552917.0",
         "0.999",
         "0.999",
         "1.0",
         "3.744",
         "0.967",
         "242.903",
         "1.0"
        ]
       ],
       "shape": {
        "columns": 11,
        "rows": 8
       }
      },
      "text/html": [
       "<div>\n",
       "<style scoped>\n",
       "    .dataframe tbody tr th:only-of-type {\n",
       "        vertical-align: middle;\n",
       "    }\n",
       "\n",
       "    .dataframe tbody tr th {\n",
       "        vertical-align: top;\n",
       "    }\n",
       "\n",
       "    .dataframe thead th {\n",
       "        text-align: right;\n",
       "    }\n",
       "</style>\n",
       "<table border=\"1\" class=\"dataframe\">\n",
       "  <thead>\n",
       "    <tr style=\"text-align: right;\">\n",
       "      <th></th>\n",
       "      <th>popularity</th>\n",
       "      <th>acousticness</th>\n",
       "      <th>danceability</th>\n",
       "      <th>duration_ms</th>\n",
       "      <th>energy</th>\n",
       "      <th>instrumentalness</th>\n",
       "      <th>liveness</th>\n",
       "      <th>loudness</th>\n",
       "      <th>speechiness</th>\n",
       "      <th>tempo</th>\n",
       "      <th>valence</th>\n",
       "    </tr>\n",
       "  </thead>\n",
       "  <tbody>\n",
       "    <tr>\n",
       "      <th>count</th>\n",
       "      <td>232723.000000</td>\n",
       "      <td>232724.000000</td>\n",
       "      <td>232725.000000</td>\n",
       "      <td>2.327250e+05</td>\n",
       "      <td>232725.000000</td>\n",
       "      <td>232725.000000</td>\n",
       "      <td>232724.000000</td>\n",
       "      <td>232725.000000</td>\n",
       "      <td>232724.000000</td>\n",
       "      <td>232725.000000</td>\n",
       "      <td>232725.000000</td>\n",
       "    </tr>\n",
       "    <tr>\n",
       "      <th>mean</th>\n",
       "      <td>41.127641</td>\n",
       "      <td>0.368559</td>\n",
       "      <td>0.554364</td>\n",
       "      <td>2.351223e+05</td>\n",
       "      <td>0.570958</td>\n",
       "      <td>0.148301</td>\n",
       "      <td>0.215009</td>\n",
       "      <td>-9.569885</td>\n",
       "      <td>0.120765</td>\n",
       "      <td>117.666585</td>\n",
       "      <td>0.454917</td>\n",
       "    </tr>\n",
       "    <tr>\n",
       "      <th>std</th>\n",
       "      <td>18.189911</td>\n",
       "      <td>0.354768</td>\n",
       "      <td>0.185608</td>\n",
       "      <td>1.189359e+05</td>\n",
       "      <td>0.263456</td>\n",
       "      <td>0.302768</td>\n",
       "      <td>0.198273</td>\n",
       "      <td>5.998204</td>\n",
       "      <td>0.185519</td>\n",
       "      <td>30.898907</td>\n",
       "      <td>0.260065</td>\n",
       "    </tr>\n",
       "    <tr>\n",
       "      <th>min</th>\n",
       "      <td>0.000000</td>\n",
       "      <td>0.000000</td>\n",
       "      <td>0.056900</td>\n",
       "      <td>1.538700e+04</td>\n",
       "      <td>0.000020</td>\n",
       "      <td>0.000000</td>\n",
       "      <td>0.009670</td>\n",
       "      <td>-52.457000</td>\n",
       "      <td>0.022200</td>\n",
       "      <td>30.379000</td>\n",
       "      <td>0.000000</td>\n",
       "    </tr>\n",
       "    <tr>\n",
       "      <th>25%</th>\n",
       "      <td>29.000000</td>\n",
       "      <td>0.037575</td>\n",
       "      <td>0.435000</td>\n",
       "      <td>1.828570e+05</td>\n",
       "      <td>0.385000</td>\n",
       "      <td>0.000000</td>\n",
       "      <td>0.097400</td>\n",
       "      <td>-11.771000</td>\n",
       "      <td>0.036700</td>\n",
       "      <td>92.959000</td>\n",
       "      <td>0.237000</td>\n",
       "    </tr>\n",
       "    <tr>\n",
       "      <th>50%</th>\n",
       "      <td>43.000000</td>\n",
       "      <td>0.232000</td>\n",
       "      <td>0.571000</td>\n",
       "      <td>2.204270e+05</td>\n",
       "      <td>0.605000</td>\n",
       "      <td>0.000044</td>\n",
       "      <td>0.128000</td>\n",
       "      <td>-7.762000</td>\n",
       "      <td>0.050100</td>\n",
       "      <td>115.778000</td>\n",
       "      <td>0.444000</td>\n",
       "    </tr>\n",
       "    <tr>\n",
       "      <th>75%</th>\n",
       "      <td>55.000000</td>\n",
       "      <td>0.722000</td>\n",
       "      <td>0.692000</td>\n",
       "      <td>2.657680e+05</td>\n",
       "      <td>0.787000</td>\n",
       "      <td>0.035800</td>\n",
       "      <td>0.264000</td>\n",
       "      <td>-5.501000</td>\n",
       "      <td>0.105000</td>\n",
       "      <td>139.054000</td>\n",
       "      <td>0.660000</td>\n",
       "    </tr>\n",
       "    <tr>\n",
       "      <th>max</th>\n",
       "      <td>100.000000</td>\n",
       "      <td>0.996000</td>\n",
       "      <td>0.989000</td>\n",
       "      <td>5.552917e+06</td>\n",
       "      <td>0.999000</td>\n",
       "      <td>0.999000</td>\n",
       "      <td>1.000000</td>\n",
       "      <td>3.744000</td>\n",
       "      <td>0.967000</td>\n",
       "      <td>242.903000</td>\n",
       "      <td>1.000000</td>\n",
       "    </tr>\n",
       "  </tbody>\n",
       "</table>\n",
       "</div>"
      ],
      "text/plain": [
       "          popularity   acousticness   danceability   duration_ms  \\\n",
       "count  232723.000000  232724.000000  232725.000000  2.327250e+05   \n",
       "mean       41.127641       0.368559       0.554364  2.351223e+05   \n",
       "std        18.189911       0.354768       0.185608  1.189359e+05   \n",
       "min         0.000000       0.000000       0.056900  1.538700e+04   \n",
       "25%        29.000000       0.037575       0.435000  1.828570e+05   \n",
       "50%        43.000000       0.232000       0.571000  2.204270e+05   \n",
       "75%        55.000000       0.722000       0.692000  2.657680e+05   \n",
       "max       100.000000       0.996000       0.989000  5.552917e+06   \n",
       "\n",
       "              energy  instrumentalness       liveness       loudness  \\\n",
       "count  232725.000000     232725.000000  232724.000000  232725.000000   \n",
       "mean        0.570958          0.148301       0.215009      -9.569885   \n",
       "std         0.263456          0.302768       0.198273       5.998204   \n",
       "min         0.000020          0.000000       0.009670     -52.457000   \n",
       "25%         0.385000          0.000000       0.097400     -11.771000   \n",
       "50%         0.605000          0.000044       0.128000      -7.762000   \n",
       "75%         0.787000          0.035800       0.264000      -5.501000   \n",
       "max         0.999000          0.999000       1.000000       3.744000   \n",
       "\n",
       "         speechiness          tempo        valence  \n",
       "count  232724.000000  232725.000000  232725.000000  \n",
       "mean        0.120765     117.666585       0.454917  \n",
       "std         0.185519      30.898907       0.260065  \n",
       "min         0.022200      30.379000       0.000000  \n",
       "25%         0.036700      92.959000       0.237000  \n",
       "50%         0.050100     115.778000       0.444000  \n",
       "75%         0.105000     139.054000       0.660000  \n",
       "max         0.967000     242.903000       1.000000  "
      ]
     },
     "execution_count": null,
     "metadata": {},
     "output_type": "execute_result"
    }
   ],
   "source": [
    "print(df.shape)\n",
    "df.describe()"
   ]
  },
  {
   "cell_type": "markdown",
   "id": "18c4d799",
   "metadata": {},
   "source": [
    "## Duplicates"
   ]
  },
  {
   "cell_type": "code",
   "execution_count": null,
   "id": "43e723ba",
   "metadata": {},
   "outputs": [
    {
     "name": "stdout",
     "output_type": "stream",
     "text": [
      "Number of duplicate rows based on track_id: 55951\n"
     ]
    }
   ],
   "source": [
    "num_duplicates = df.duplicated(subset='track_id').sum()\n",
    "print(f\"Number of duplicate rows based on track_id: {num_duplicates}\")"
   ]
  },
  {
   "cell_type": "code",
   "execution_count": null,
   "id": "f45e04b8",
   "metadata": {},
   "outputs": [
    {
     "name": "stdout",
     "output_type": "stream",
     "text": [
      "(176774, 18)\n"
     ]
    },
    {
     "data": {
      "application/vnd.microsoft.datawrangler.viewer.v0+json": {
       "columns": [
        {
         "name": "index",
         "rawType": "object",
         "type": "string"
        },
        {
         "name": "popularity",
         "rawType": "float64",
         "type": "float"
        },
        {
         "name": "acousticness",
         "rawType": "float64",
         "type": "float"
        },
        {
         "name": "danceability",
         "rawType": "float64",
         "type": "float"
        },
        {
         "name": "duration_ms",
         "rawType": "float64",
         "type": "float"
        },
        {
         "name": "energy",
         "rawType": "float64",
         "type": "float"
        },
        {
         "name": "instrumentalness",
         "rawType": "float64",
         "type": "float"
        },
        {
         "name": "liveness",
         "rawType": "float64",
         "type": "float"
        },
        {
         "name": "loudness",
         "rawType": "float64",
         "type": "float"
        },
        {
         "name": "speechiness",
         "rawType": "float64",
         "type": "float"
        },
        {
         "name": "tempo",
         "rawType": "float64",
         "type": "float"
        },
        {
         "name": "valence",
         "rawType": "float64",
         "type": "float"
        }
       ],
       "ref": "8ffc1869-6018-4abd-b75a-7ffd48f0c533",
       "rows": [
        [
         "count",
         "176772.0",
         "176773.0",
         "176774.0",
         "176774.0",
         "176774.0",
         "176774.0",
         "176773.0",
         "176774.0",
         "176773.0",
         "176774.0",
         "176774.0"
        ],
        [
         "mean",
         "36.27328988753875",
         "0.4041330900289071",
         "0.5410677203661172",
         "236127.20538653876",
         "0.5570245079440416",
         "0.1720729356615226",
         "0.2245311126133516",
         "-10.13760538880152",
         "0.12739577933281668",
         "117.20367883851698",
         "0.4515953313270051"
        ],
        [
         "std",
         "17.3909999616622",
         "0.3663020194150798",
         "0.19038683040381513",
         "130513.22671031865",
         "0.2758392267483149",
         "0.32293583550545346",
         "0.21102750212578805",
         "6.3955509812586255",
         "0.2043454092220231",
         "31.325090978272765",
         "0.2678198665925333"
        ],
        [
         "min",
         "0.0",
         "0.0",
         "0.0569",
         "15387.0",
         "2.03e-05",
         "0.0",
         "0.00967",
         "-52.457",
         "0.0222",
         "30.379",
         "0.0"
        ],
        [
         "25%",
         "25.0",
         "0.0456",
         "0.415",
         "178253.0",
         "0.344",
         "0.0",
         "0.0975",
         "-12.851",
         "0.0368",
         "92.006",
         "0.222"
        ],
        [
         "50%",
         "37.0",
         "0.288",
         "0.558",
         "219453.0",
         "0.592",
         "7.04e-05",
         "0.13",
         "-8.191",
         "0.0494",
         "115.0065",
         "0.44"
        ],
        [
         "75%",
         "49.0",
         "0.791",
         "0.683",
         "268547.0",
         "0.789",
         "0.0908",
         "0.277",
         "-5.631",
         "0.102",
         "138.79975000000002",
         "0.667"
        ],
        [
         "max",
         "100.0",
         "0.996",
         "0.989",
         "5552917.0",
         "0.999",
         "0.999",
         "1.0",
         "3.744",
         "0.967",
         "242.903",
         "1.0"
        ]
       ],
       "shape": {
        "columns": 11,
        "rows": 8
       }
      },
      "text/html": [
       "<div>\n",
       "<style scoped>\n",
       "    .dataframe tbody tr th:only-of-type {\n",
       "        vertical-align: middle;\n",
       "    }\n",
       "\n",
       "    .dataframe tbody tr th {\n",
       "        vertical-align: top;\n",
       "    }\n",
       "\n",
       "    .dataframe thead th {\n",
       "        text-align: right;\n",
       "    }\n",
       "</style>\n",
       "<table border=\"1\" class=\"dataframe\">\n",
       "  <thead>\n",
       "    <tr style=\"text-align: right;\">\n",
       "      <th></th>\n",
       "      <th>popularity</th>\n",
       "      <th>acousticness</th>\n",
       "      <th>danceability</th>\n",
       "      <th>duration_ms</th>\n",
       "      <th>energy</th>\n",
       "      <th>instrumentalness</th>\n",
       "      <th>liveness</th>\n",
       "      <th>loudness</th>\n",
       "      <th>speechiness</th>\n",
       "      <th>tempo</th>\n",
       "      <th>valence</th>\n",
       "    </tr>\n",
       "  </thead>\n",
       "  <tbody>\n",
       "    <tr>\n",
       "      <th>count</th>\n",
       "      <td>176772.00000</td>\n",
       "      <td>176773.000000</td>\n",
       "      <td>176774.000000</td>\n",
       "      <td>1.767740e+05</td>\n",
       "      <td>176774.000000</td>\n",
       "      <td>176774.000000</td>\n",
       "      <td>176773.000000</td>\n",
       "      <td>176774.000000</td>\n",
       "      <td>176773.000000</td>\n",
       "      <td>176774.000000</td>\n",
       "      <td>176774.000000</td>\n",
       "    </tr>\n",
       "    <tr>\n",
       "      <th>mean</th>\n",
       "      <td>36.27329</td>\n",
       "      <td>0.404133</td>\n",
       "      <td>0.541068</td>\n",
       "      <td>2.361272e+05</td>\n",
       "      <td>0.557025</td>\n",
       "      <td>0.172073</td>\n",
       "      <td>0.224531</td>\n",
       "      <td>-10.137605</td>\n",
       "      <td>0.127396</td>\n",
       "      <td>117.203679</td>\n",
       "      <td>0.451595</td>\n",
       "    </tr>\n",
       "    <tr>\n",
       "      <th>std</th>\n",
       "      <td>17.39100</td>\n",
       "      <td>0.366302</td>\n",
       "      <td>0.190387</td>\n",
       "      <td>1.305132e+05</td>\n",
       "      <td>0.275839</td>\n",
       "      <td>0.322936</td>\n",
       "      <td>0.211028</td>\n",
       "      <td>6.395551</td>\n",
       "      <td>0.204345</td>\n",
       "      <td>31.325091</td>\n",
       "      <td>0.267820</td>\n",
       "    </tr>\n",
       "    <tr>\n",
       "      <th>min</th>\n",
       "      <td>0.00000</td>\n",
       "      <td>0.000000</td>\n",
       "      <td>0.056900</td>\n",
       "      <td>1.538700e+04</td>\n",
       "      <td>0.000020</td>\n",
       "      <td>0.000000</td>\n",
       "      <td>0.009670</td>\n",
       "      <td>-52.457000</td>\n",
       "      <td>0.022200</td>\n",
       "      <td>30.379000</td>\n",
       "      <td>0.000000</td>\n",
       "    </tr>\n",
       "    <tr>\n",
       "      <th>25%</th>\n",
       "      <td>25.00000</td>\n",
       "      <td>0.045600</td>\n",
       "      <td>0.415000</td>\n",
       "      <td>1.782530e+05</td>\n",
       "      <td>0.344000</td>\n",
       "      <td>0.000000</td>\n",
       "      <td>0.097500</td>\n",
       "      <td>-12.851000</td>\n",
       "      <td>0.036800</td>\n",
       "      <td>92.006000</td>\n",
       "      <td>0.222000</td>\n",
       "    </tr>\n",
       "    <tr>\n",
       "      <th>50%</th>\n",
       "      <td>37.00000</td>\n",
       "      <td>0.288000</td>\n",
       "      <td>0.558000</td>\n",
       "      <td>2.194530e+05</td>\n",
       "      <td>0.592000</td>\n",
       "      <td>0.000070</td>\n",
       "      <td>0.130000</td>\n",
       "      <td>-8.191000</td>\n",
       "      <td>0.049400</td>\n",
       "      <td>115.006500</td>\n",
       "      <td>0.440000</td>\n",
       "    </tr>\n",
       "    <tr>\n",
       "      <th>75%</th>\n",
       "      <td>49.00000</td>\n",
       "      <td>0.791000</td>\n",
       "      <td>0.683000</td>\n",
       "      <td>2.685470e+05</td>\n",
       "      <td>0.789000</td>\n",
       "      <td>0.090800</td>\n",
       "      <td>0.277000</td>\n",
       "      <td>-5.631000</td>\n",
       "      <td>0.102000</td>\n",
       "      <td>138.799750</td>\n",
       "      <td>0.667000</td>\n",
       "    </tr>\n",
       "    <tr>\n",
       "      <th>max</th>\n",
       "      <td>100.00000</td>\n",
       "      <td>0.996000</td>\n",
       "      <td>0.989000</td>\n",
       "      <td>5.552917e+06</td>\n",
       "      <td>0.999000</td>\n",
       "      <td>0.999000</td>\n",
       "      <td>1.000000</td>\n",
       "      <td>3.744000</td>\n",
       "      <td>0.967000</td>\n",
       "      <td>242.903000</td>\n",
       "      <td>1.000000</td>\n",
       "    </tr>\n",
       "  </tbody>\n",
       "</table>\n",
       "</div>"
      ],
      "text/plain": [
       "         popularity   acousticness   danceability   duration_ms  \\\n",
       "count  176772.00000  176773.000000  176774.000000  1.767740e+05   \n",
       "mean       36.27329       0.404133       0.541068  2.361272e+05   \n",
       "std        17.39100       0.366302       0.190387  1.305132e+05   \n",
       "min         0.00000       0.000000       0.056900  1.538700e+04   \n",
       "25%        25.00000       0.045600       0.415000  1.782530e+05   \n",
       "50%        37.00000       0.288000       0.558000  2.194530e+05   \n",
       "75%        49.00000       0.791000       0.683000  2.685470e+05   \n",
       "max       100.00000       0.996000       0.989000  5.552917e+06   \n",
       "\n",
       "              energy  instrumentalness       liveness       loudness  \\\n",
       "count  176774.000000     176774.000000  176773.000000  176774.000000   \n",
       "mean        0.557025          0.172073       0.224531     -10.137605   \n",
       "std         0.275839          0.322936       0.211028       6.395551   \n",
       "min         0.000020          0.000000       0.009670     -52.457000   \n",
       "25%         0.344000          0.000000       0.097500     -12.851000   \n",
       "50%         0.592000          0.000070       0.130000      -8.191000   \n",
       "75%         0.789000          0.090800       0.277000      -5.631000   \n",
       "max         0.999000          0.999000       1.000000       3.744000   \n",
       "\n",
       "         speechiness          tempo        valence  \n",
       "count  176773.000000  176774.000000  176774.000000  \n",
       "mean        0.127396     117.203679       0.451595  \n",
       "std         0.204345      31.325091       0.267820  \n",
       "min         0.022200      30.379000       0.000000  \n",
       "25%         0.036800      92.006000       0.222000  \n",
       "50%         0.049400     115.006500       0.440000  \n",
       "75%         0.102000     138.799750       0.667000  \n",
       "max         0.967000     242.903000       1.000000  "
      ]
     },
     "execution_count": null,
     "metadata": {},
     "output_type": "execute_result"
    }
   ],
   "source": [
    "df = df.drop_duplicates(subset='track_id')\n",
    "\n",
    "print(df.shape)\n",
    "df.describe()"
   ]
  },
  {
   "cell_type": "markdown",
   "id": "5da43ed1",
   "metadata": {},
   "source": [
    "## Missing Values"
   ]
  },
  {
   "cell_type": "code",
   "execution_count": null,
   "id": "d8801c52",
   "metadata": {},
   "outputs": [
    {
     "data": {
      "application/vnd.microsoft.datawrangler.viewer.v0+json": {
       "columns": [
        {
         "name": "index",
         "rawType": "object",
         "type": "string"
        },
        {
         "name": "0",
         "rawType": "int64",
         "type": "integer"
        }
       ],
       "ref": "ed681c2d-72cd-48a9-9d98-ee5c794e7b1a",
       "rows": [
        [
         "genre",
         "0"
        ],
        [
         "artist_name",
         "0"
        ],
        [
         "track_name",
         "0"
        ],
        [
         "track_id",
         "0"
        ],
        [
         "popularity",
         "0"
        ],
        [
         "acousticness",
         "0"
        ],
        [
         "danceability",
         "0"
        ],
        [
         "duration_ms",
         "0"
        ],
        [
         "energy",
         "0"
        ],
        [
         "instrumentalness",
         "0"
        ],
        [
         "key",
         "0"
        ],
        [
         "liveness",
         "0"
        ],
        [
         "loudness",
         "0"
        ],
        [
         "mode",
         "0"
        ],
        [
         "speechiness",
         "0"
        ],
        [
         "tempo",
         "0"
        ],
        [
         "time_signature",
         "0"
        ],
        [
         "valence",
         "0"
        ]
       ],
       "shape": {
        "columns": 1,
        "rows": 18
       }
      },
      "text/plain": [
       "genre               0\n",
       "artist_name         0\n",
       "track_name          0\n",
       "track_id            0\n",
       "popularity          0\n",
       "acousticness        0\n",
       "danceability        0\n",
       "duration_ms         0\n",
       "energy              0\n",
       "instrumentalness    0\n",
       "key                 0\n",
       "liveness            0\n",
       "loudness            0\n",
       "mode                0\n",
       "speechiness         0\n",
       "tempo               0\n",
       "time_signature      0\n",
       "valence             0\n",
       "dtype: int64"
      ]
     },
     "execution_count": null,
     "metadata": {},
     "output_type": "execute_result"
    }
   ],
   "source": [
    "df.isna().sum()"
   ]
  },
  {
   "cell_type": "code",
   "execution_count": null,
   "id": "e2e799ef",
   "metadata": {},
   "outputs": [
    {
     "name": "stdout",
     "output_type": "stream",
     "text": [
      "(176768, 18)\n"
     ]
    },
    {
     "data": {
      "application/vnd.microsoft.datawrangler.viewer.v0+json": {
       "columns": [
        {
         "name": "index",
         "rawType": "object",
         "type": "string"
        },
        {
         "name": "popularity",
         "rawType": "float64",
         "type": "float"
        },
        {
         "name": "acousticness",
         "rawType": "float64",
         "type": "float"
        },
        {
         "name": "danceability",
         "rawType": "float64",
         "type": "float"
        },
        {
         "name": "duration_ms",
         "rawType": "float64",
         "type": "float"
        },
        {
         "name": "energy",
         "rawType": "float64",
         "type": "float"
        },
        {
         "name": "instrumentalness",
         "rawType": "float64",
         "type": "float"
        },
        {
         "name": "liveness",
         "rawType": "float64",
         "type": "float"
        },
        {
         "name": "loudness",
         "rawType": "float64",
         "type": "float"
        },
        {
         "name": "speechiness",
         "rawType": "float64",
         "type": "float"
        },
        {
         "name": "tempo",
         "rawType": "float64",
         "type": "float"
        },
        {
         "name": "valence",
         "rawType": "float64",
         "type": "float"
        }
       ],
       "ref": "6eb0295a-fb93-483f-ab3c-5be8e3329c84",
       "rows": [
        [
         "count",
         "176768.0",
         "176768.0",
         "176768.0",
         "176768.0",
         "176768.0",
         "176768.0",
         "176768.0",
         "176768.0",
         "176768.0",
         "176768.0",
         "176768.0"
        ],
        [
         "mean",
         "36.2737486422882",
         "0.4041241046098842",
         "0.5410726783128168",
         "236127.5916964609",
         "0.5570360453662426",
         "0.17207877610161343",
         "0.22453428318473934",
         "-10.137503235879798",
         "0.12739850255702387",
         "117.20319103005068",
         "0.45160138939174516"
        ],
        [
         "std",
         "17.390759198734806",
         "0.3662984135304079",
         "0.1903867654466892",
         "130514.94219480468",
         "0.27583576332474447",
         "0.3229397601674397",
         "0.21102960013431063",
         "6.395609050572737",
         "0.20434765755913886",
         "31.32538202359525",
         "0.2678200040947796"
        ],
        [
         "min",
         "0.0",
         "0.0",
         "0.0569",
         "15387.0",
         "2.03e-05",
         "0.0",
         "0.00967",
         "-52.457",
         "0.0222",
         "30.379",
         "0.0"
        ],
        [
         "25%",
         "25.0",
         "0.0456",
         "0.415",
         "178253.0",
         "0.344",
         "0.0",
         "0.0975",
         "-12.85",
         "0.0368",
         "92.00575",
         "0.222"
        ],
        [
         "50%",
         "37.0",
         "0.288",
         "0.558",
         "219453.0",
         "0.592",
         "7.05e-05",
         "0.13",
         "-8.191",
         "0.0494",
         "115.006",
         "0.44"
        ],
        [
         "75%",
         "49.0",
         "0.791",
         "0.683",
         "268547.0",
         "0.789",
         "0.090825",
         "0.277",
         "-5.631",
         "0.102",
         "138.79925",
         "0.667"
        ],
        [
         "max",
         "100.0",
         "0.996",
         "0.989",
         "5552917.0",
         "0.999",
         "0.999",
         "1.0",
         "3.744",
         "0.967",
         "242.903",
         "1.0"
        ]
       ],
       "shape": {
        "columns": 11,
        "rows": 8
       }
      },
      "text/html": [
       "<div>\n",
       "<style scoped>\n",
       "    .dataframe tbody tr th:only-of-type {\n",
       "        vertical-align: middle;\n",
       "    }\n",
       "\n",
       "    .dataframe tbody tr th {\n",
       "        vertical-align: top;\n",
       "    }\n",
       "\n",
       "    .dataframe thead th {\n",
       "        text-align: right;\n",
       "    }\n",
       "</style>\n",
       "<table border=\"1\" class=\"dataframe\">\n",
       "  <thead>\n",
       "    <tr style=\"text-align: right;\">\n",
       "      <th></th>\n",
       "      <th>popularity</th>\n",
       "      <th>acousticness</th>\n",
       "      <th>danceability</th>\n",
       "      <th>duration_ms</th>\n",
       "      <th>energy</th>\n",
       "      <th>instrumentalness</th>\n",
       "      <th>liveness</th>\n",
       "      <th>loudness</th>\n",
       "      <th>speechiness</th>\n",
       "      <th>tempo</th>\n",
       "      <th>valence</th>\n",
       "    </tr>\n",
       "  </thead>\n",
       "  <tbody>\n",
       "    <tr>\n",
       "      <th>count</th>\n",
       "      <td>176768.000000</td>\n",
       "      <td>176768.000000</td>\n",
       "      <td>176768.000000</td>\n",
       "      <td>1.767680e+05</td>\n",
       "      <td>176768.000000</td>\n",
       "      <td>176768.000000</td>\n",
       "      <td>176768.000000</td>\n",
       "      <td>176768.000000</td>\n",
       "      <td>176768.000000</td>\n",
       "      <td>176768.000000</td>\n",
       "      <td>176768.000000</td>\n",
       "    </tr>\n",
       "    <tr>\n",
       "      <th>mean</th>\n",
       "      <td>36.273749</td>\n",
       "      <td>0.404124</td>\n",
       "      <td>0.541073</td>\n",
       "      <td>2.361276e+05</td>\n",
       "      <td>0.557036</td>\n",
       "      <td>0.172079</td>\n",
       "      <td>0.224534</td>\n",
       "      <td>-10.137503</td>\n",
       "      <td>0.127399</td>\n",
       "      <td>117.203191</td>\n",
       "      <td>0.451601</td>\n",
       "    </tr>\n",
       "    <tr>\n",
       "      <th>std</th>\n",
       "      <td>17.390759</td>\n",
       "      <td>0.366298</td>\n",
       "      <td>0.190387</td>\n",
       "      <td>1.305149e+05</td>\n",
       "      <td>0.275836</td>\n",
       "      <td>0.322940</td>\n",
       "      <td>0.211030</td>\n",
       "      <td>6.395609</td>\n",
       "      <td>0.204348</td>\n",
       "      <td>31.325382</td>\n",
       "      <td>0.267820</td>\n",
       "    </tr>\n",
       "    <tr>\n",
       "      <th>min</th>\n",
       "      <td>0.000000</td>\n",
       "      <td>0.000000</td>\n",
       "      <td>0.056900</td>\n",
       "      <td>1.538700e+04</td>\n",
       "      <td>0.000020</td>\n",
       "      <td>0.000000</td>\n",
       "      <td>0.009670</td>\n",
       "      <td>-52.457000</td>\n",
       "      <td>0.022200</td>\n",
       "      <td>30.379000</td>\n",
       "      <td>0.000000</td>\n",
       "    </tr>\n",
       "    <tr>\n",
       "      <th>25%</th>\n",
       "      <td>25.000000</td>\n",
       "      <td>0.045600</td>\n",
       "      <td>0.415000</td>\n",
       "      <td>1.782530e+05</td>\n",
       "      <td>0.344000</td>\n",
       "      <td>0.000000</td>\n",
       "      <td>0.097500</td>\n",
       "      <td>-12.850000</td>\n",
       "      <td>0.036800</td>\n",
       "      <td>92.005750</td>\n",
       "      <td>0.222000</td>\n",
       "    </tr>\n",
       "    <tr>\n",
       "      <th>50%</th>\n",
       "      <td>37.000000</td>\n",
       "      <td>0.288000</td>\n",
       "      <td>0.558000</td>\n",
       "      <td>2.194530e+05</td>\n",
       "      <td>0.592000</td>\n",
       "      <td>0.000071</td>\n",
       "      <td>0.130000</td>\n",
       "      <td>-8.191000</td>\n",
       "      <td>0.049400</td>\n",
       "      <td>115.006000</td>\n",
       "      <td>0.440000</td>\n",
       "    </tr>\n",
       "    <tr>\n",
       "      <th>75%</th>\n",
       "      <td>49.000000</td>\n",
       "      <td>0.791000</td>\n",
       "      <td>0.683000</td>\n",
       "      <td>2.685470e+05</td>\n",
       "      <td>0.789000</td>\n",
       "      <td>0.090825</td>\n",
       "      <td>0.277000</td>\n",
       "      <td>-5.631000</td>\n",
       "      <td>0.102000</td>\n",
       "      <td>138.799250</td>\n",
       "      <td>0.667000</td>\n",
       "    </tr>\n",
       "    <tr>\n",
       "      <th>max</th>\n",
       "      <td>100.000000</td>\n",
       "      <td>0.996000</td>\n",
       "      <td>0.989000</td>\n",
       "      <td>5.552917e+06</td>\n",
       "      <td>0.999000</td>\n",
       "      <td>0.999000</td>\n",
       "      <td>1.000000</td>\n",
       "      <td>3.744000</td>\n",
       "      <td>0.967000</td>\n",
       "      <td>242.903000</td>\n",
       "      <td>1.000000</td>\n",
       "    </tr>\n",
       "  </tbody>\n",
       "</table>\n",
       "</div>"
      ],
      "text/plain": [
       "          popularity   acousticness   danceability   duration_ms  \\\n",
       "count  176768.000000  176768.000000  176768.000000  1.767680e+05   \n",
       "mean       36.273749       0.404124       0.541073  2.361276e+05   \n",
       "std        17.390759       0.366298       0.190387  1.305149e+05   \n",
       "min         0.000000       0.000000       0.056900  1.538700e+04   \n",
       "25%        25.000000       0.045600       0.415000  1.782530e+05   \n",
       "50%        37.000000       0.288000       0.558000  2.194530e+05   \n",
       "75%        49.000000       0.791000       0.683000  2.685470e+05   \n",
       "max       100.000000       0.996000       0.989000  5.552917e+06   \n",
       "\n",
       "              energy  instrumentalness       liveness       loudness  \\\n",
       "count  176768.000000     176768.000000  176768.000000  176768.000000   \n",
       "mean        0.557036          0.172079       0.224534     -10.137503   \n",
       "std         0.275836          0.322940       0.211030       6.395609   \n",
       "min         0.000020          0.000000       0.009670     -52.457000   \n",
       "25%         0.344000          0.000000       0.097500     -12.850000   \n",
       "50%         0.592000          0.000071       0.130000      -8.191000   \n",
       "75%         0.789000          0.090825       0.277000      -5.631000   \n",
       "max         0.999000          0.999000       1.000000       3.744000   \n",
       "\n",
       "         speechiness          tempo        valence  \n",
       "count  176768.000000  176768.000000  176768.000000  \n",
       "mean        0.127399     117.203191       0.451601  \n",
       "std         0.204348      31.325382       0.267820  \n",
       "min         0.022200      30.379000       0.000000  \n",
       "25%         0.036800      92.005750       0.222000  \n",
       "50%         0.049400     115.006000       0.440000  \n",
       "75%         0.102000     138.799250       0.667000  \n",
       "max         0.967000     242.903000       1.000000  "
      ]
     },
     "execution_count": null,
     "metadata": {},
     "output_type": "execute_result"
    }
   ],
   "source": [
    "df.dropna(inplace=True)\n",
    "\n",
    "print(df.shape)\n",
    "df.describe()"
   ]
  },
  {
   "cell_type": "markdown",
   "id": "89a4ffe6",
   "metadata": {},
   "source": [
    "## Feature-specific Cleaning"
   ]
  },
  {
   "cell_type": "markdown",
   "id": "84aa797f",
   "metadata": {},
   "source": [
    "### Genre"
   ]
  },
  {
   "cell_type": "code",
   "execution_count": null,
   "id": "e7839a0b",
   "metadata": {},
   "outputs": [
    {
     "name": "stdout",
     "output_type": "stream",
     "text": [
      "['Movie' 'R&B' 'A Capella' 'Alternative' 'Country' 'Dance' 'Electronic'\n",
      " 'Anime' 'Folk' 'Blues' 'Opera' 'Hip-Hop' \"Children's Music\"\n",
      " 'Children’s Music' 'Rap' 'Indie' 'Classical' 'Pop' 'Reggae' 'Reggaeton'\n",
      " 'Jazz' 'Rock' 'Ska' 'Comedy' 'Soul' 'Soundtrack' 'World']\n"
     ]
    }
   ],
   "source": [
    "print(df['genre'].unique())"
   ]
  },
  {
   "cell_type": "code",
   "execution_count": null,
   "id": "e48ded91",
   "metadata": {},
   "outputs": [
    {
     "name": "stdout",
     "output_type": "stream",
     "text": [
      "(158814, 18)\n"
     ]
    },
    {
     "data": {
      "application/vnd.microsoft.datawrangler.viewer.v0+json": {
       "columns": [
        {
         "name": "index",
         "rawType": "object",
         "type": "string"
        },
        {
         "name": "popularity",
         "rawType": "float64",
         "type": "float"
        },
        {
         "name": "acousticness",
         "rawType": "float64",
         "type": "float"
        },
        {
         "name": "danceability",
         "rawType": "float64",
         "type": "float"
        },
        {
         "name": "duration_ms",
         "rawType": "float64",
         "type": "float"
        },
        {
         "name": "energy",
         "rawType": "float64",
         "type": "float"
        },
        {
         "name": "instrumentalness",
         "rawType": "float64",
         "type": "float"
        },
        {
         "name": "liveness",
         "rawType": "float64",
         "type": "float"
        },
        {
         "name": "loudness",
         "rawType": "float64",
         "type": "float"
        },
        {
         "name": "speechiness",
         "rawType": "float64",
         "type": "float"
        },
        {
         "name": "tempo",
         "rawType": "float64",
         "type": "float"
        },
        {
         "name": "valence",
         "rawType": "float64",
         "type": "float"
        }
       ],
       "ref": "7497a2fd-f133-4801-9ae3-2b4662c85ef0",
       "rows": [
        [
         "count",
         "158814.0",
         "158814.0",
         "158814.0",
         "158814.0",
         "158814.0",
         "158814.0",
         "158814.0",
         "158814.0",
         "158814.0",
         "158814.0",
         "158814.0"
        ],
        [
         "mean",
         "38.38053949903661",
         "0.3521988894598713",
         "0.5530361756520206",
         "234974.53583437228",
         "0.570021480274409",
         "0.1794010667573388",
         "0.1941082201191331",
         "-9.562987633332074",
         "0.08666143098215522",
         "119.16272029543995",
         "0.46762021547218746"
        ],
        [
         "std",
         "16.826157095461383",
         "0.3477882455860213",
         "0.18910856213667604",
         "117957.68857342485",
         "0.26896143491729296",
         "0.3282437135707821",
         "0.16848919498518927",
         "6.131849604494266",
         "0.09846901109737151",
         "30.97261162122544",
         "0.2678652392548147"
        ],
        [
         "min",
         "0.0",
         "0.0",
         "0.0569",
         "15387.0",
         "2.03e-05",
         "0.0",
         "0.00967",
         "-52.457",
         "0.0222",
         "30.379",
         "0.0"
        ],
        [
         "25%",
         "28.0",
         "0.034",
         "0.429",
         "181396.25",
         "0.376",
         "0.0",
         "0.0957",
         "-11.744",
         "0.036",
         "94.323",
         "0.241"
        ],
        [
         "50%",
         "39.0",
         "0.215",
         "0.571",
         "220027.0",
         "0.606",
         "9.68e-05",
         "0.124",
         "-7.724",
         "0.0477",
         "117.941",
         "0.463"
        ],
        [
         "75%",
         "50.0",
         "0.669",
         "0.696",
         "266467.0",
         "0.793",
         "0.122",
         "0.238",
         "-5.442",
         "0.0881",
         "140.007",
         "0.686"
        ],
        [
         "max",
         "100.0",
         "0.996",
         "0.989",
         "5488000.0",
         "0.999",
         "0.999",
         "1.0",
         "3.744",
         "0.965",
         "242.903",
         "1.0"
        ]
       ],
       "shape": {
        "columns": 11,
        "rows": 8
       }
      },
      "text/html": [
       "<div>\n",
       "<style scoped>\n",
       "    .dataframe tbody tr th:only-of-type {\n",
       "        vertical-align: middle;\n",
       "    }\n",
       "\n",
       "    .dataframe tbody tr th {\n",
       "        vertical-align: top;\n",
       "    }\n",
       "\n",
       "    .dataframe thead th {\n",
       "        text-align: right;\n",
       "    }\n",
       "</style>\n",
       "<table border=\"1\" class=\"dataframe\">\n",
       "  <thead>\n",
       "    <tr style=\"text-align: right;\">\n",
       "      <th></th>\n",
       "      <th>popularity</th>\n",
       "      <th>acousticness</th>\n",
       "      <th>danceability</th>\n",
       "      <th>duration_ms</th>\n",
       "      <th>energy</th>\n",
       "      <th>instrumentalness</th>\n",
       "      <th>liveness</th>\n",
       "      <th>loudness</th>\n",
       "      <th>speechiness</th>\n",
       "      <th>tempo</th>\n",
       "      <th>valence</th>\n",
       "    </tr>\n",
       "  </thead>\n",
       "  <tbody>\n",
       "    <tr>\n",
       "      <th>count</th>\n",
       "      <td>158814.000000</td>\n",
       "      <td>158814.000000</td>\n",
       "      <td>158814.000000</td>\n",
       "      <td>1.588140e+05</td>\n",
       "      <td>158814.000000</td>\n",
       "      <td>158814.000000</td>\n",
       "      <td>158814.000000</td>\n",
       "      <td>158814.000000</td>\n",
       "      <td>158814.000000</td>\n",
       "      <td>158814.000000</td>\n",
       "      <td>158814.000000</td>\n",
       "    </tr>\n",
       "    <tr>\n",
       "      <th>mean</th>\n",
       "      <td>38.380539</td>\n",
       "      <td>0.352199</td>\n",
       "      <td>0.553036</td>\n",
       "      <td>2.349745e+05</td>\n",
       "      <td>0.570021</td>\n",
       "      <td>0.179401</td>\n",
       "      <td>0.194108</td>\n",
       "      <td>-9.562988</td>\n",
       "      <td>0.086661</td>\n",
       "      <td>119.162720</td>\n",
       "      <td>0.467620</td>\n",
       "    </tr>\n",
       "    <tr>\n",
       "      <th>std</th>\n",
       "      <td>16.826157</td>\n",
       "      <td>0.347788</td>\n",
       "      <td>0.189109</td>\n",
       "      <td>1.179577e+05</td>\n",
       "      <td>0.268961</td>\n",
       "      <td>0.328244</td>\n",
       "      <td>0.168489</td>\n",
       "      <td>6.131850</td>\n",
       "      <td>0.098469</td>\n",
       "      <td>30.972612</td>\n",
       "      <td>0.267865</td>\n",
       "    </tr>\n",
       "    <tr>\n",
       "      <th>min</th>\n",
       "      <td>0.000000</td>\n",
       "      <td>0.000000</td>\n",
       "      <td>0.056900</td>\n",
       "      <td>1.538700e+04</td>\n",
       "      <td>0.000020</td>\n",
       "      <td>0.000000</td>\n",
       "      <td>0.009670</td>\n",
       "      <td>-52.457000</td>\n",
       "      <td>0.022200</td>\n",
       "      <td>30.379000</td>\n",
       "      <td>0.000000</td>\n",
       "    </tr>\n",
       "    <tr>\n",
       "      <th>25%</th>\n",
       "      <td>28.000000</td>\n",
       "      <td>0.034000</td>\n",
       "      <td>0.429000</td>\n",
       "      <td>1.813962e+05</td>\n",
       "      <td>0.376000</td>\n",
       "      <td>0.000000</td>\n",
       "      <td>0.095700</td>\n",
       "      <td>-11.744000</td>\n",
       "      <td>0.036000</td>\n",
       "      <td>94.323000</td>\n",
       "      <td>0.241000</td>\n",
       "    </tr>\n",
       "    <tr>\n",
       "      <th>50%</th>\n",
       "      <td>39.000000</td>\n",
       "      <td>0.215000</td>\n",
       "      <td>0.571000</td>\n",
       "      <td>2.200270e+05</td>\n",
       "      <td>0.606000</td>\n",
       "      <td>0.000097</td>\n",
       "      <td>0.124000</td>\n",
       "      <td>-7.724000</td>\n",
       "      <td>0.047700</td>\n",
       "      <td>117.941000</td>\n",
       "      <td>0.463000</td>\n",
       "    </tr>\n",
       "    <tr>\n",
       "      <th>75%</th>\n",
       "      <td>50.000000</td>\n",
       "      <td>0.669000</td>\n",
       "      <td>0.696000</td>\n",
       "      <td>2.664670e+05</td>\n",
       "      <td>0.793000</td>\n",
       "      <td>0.122000</td>\n",
       "      <td>0.238000</td>\n",
       "      <td>-5.442000</td>\n",
       "      <td>0.088100</td>\n",
       "      <td>140.007000</td>\n",
       "      <td>0.686000</td>\n",
       "    </tr>\n",
       "    <tr>\n",
       "      <th>max</th>\n",
       "      <td>100.000000</td>\n",
       "      <td>0.996000</td>\n",
       "      <td>0.989000</td>\n",
       "      <td>5.488000e+06</td>\n",
       "      <td>0.999000</td>\n",
       "      <td>0.999000</td>\n",
       "      <td>1.000000</td>\n",
       "      <td>3.744000</td>\n",
       "      <td>0.965000</td>\n",
       "      <td>242.903000</td>\n",
       "      <td>1.000000</td>\n",
       "    </tr>\n",
       "  </tbody>\n",
       "</table>\n",
       "</div>"
      ],
      "text/plain": [
       "          popularity   acousticness   danceability   duration_ms  \\\n",
       "count  158814.000000  158814.000000  158814.000000  1.588140e+05   \n",
       "mean       38.380539       0.352199       0.553036  2.349745e+05   \n",
       "std        16.826157       0.347788       0.189109  1.179577e+05   \n",
       "min         0.000000       0.000000       0.056900  1.538700e+04   \n",
       "25%        28.000000       0.034000       0.429000  1.813962e+05   \n",
       "50%        39.000000       0.215000       0.571000  2.200270e+05   \n",
       "75%        50.000000       0.669000       0.696000  2.664670e+05   \n",
       "max       100.000000       0.996000       0.989000  5.488000e+06   \n",
       "\n",
       "              energy  instrumentalness       liveness       loudness  \\\n",
       "count  158814.000000     158814.000000  158814.000000  158814.000000   \n",
       "mean        0.570021          0.179401       0.194108      -9.562988   \n",
       "std         0.268961          0.328244       0.168489       6.131850   \n",
       "min         0.000020          0.000000       0.009670     -52.457000   \n",
       "25%         0.376000          0.000000       0.095700     -11.744000   \n",
       "50%         0.606000          0.000097       0.124000      -7.724000   \n",
       "75%         0.793000          0.122000       0.238000      -5.442000   \n",
       "max         0.999000          0.999000       1.000000       3.744000   \n",
       "\n",
       "         speechiness          tempo        valence  \n",
       "count  158814.000000  158814.000000  158814.000000  \n",
       "mean        0.086661     119.162720       0.467620  \n",
       "std         0.098469      30.972612       0.267865  \n",
       "min         0.022200      30.379000       0.000000  \n",
       "25%         0.036000      94.323000       0.241000  \n",
       "50%         0.047700     117.941000       0.463000  \n",
       "75%         0.088100     140.007000       0.686000  \n",
       "max         0.965000     242.903000       1.000000  "
      ]
     },
     "execution_count": null,
     "metadata": {},
     "output_type": "execute_result"
    }
   ],
   "source": [
    "# Remove Opera and Comedy genres\n",
    "df = df[~df['genre'].isin(['Opera', 'Comedy'])]\n",
    "\n",
    "# Merge both children's genres into a single label\n",
    "df['genre'] = df['genre'].replace({'Children’s Music': 'Children', \"Children's Music\": 'Children'})\n",
    "\n",
    "print(df.shape)\n",
    "df.describe()"
   ]
  },
  {
   "cell_type": "markdown",
   "id": "50ab31bb",
   "metadata": {},
   "source": [
    "### Time Signature"
   ]
  },
  {
   "cell_type": "code",
   "execution_count": null,
   "id": "575080c7",
   "metadata": {},
   "outputs": [
    {
     "data": {
      "application/vnd.microsoft.datawrangler.viewer.v0+json": {
       "columns": [
        {
         "name": "time_signature",
         "rawType": "object",
         "type": "string"
        },
        {
         "name": "count",
         "rawType": "int64",
         "type": "integer"
        }
       ],
       "ref": "af60b2b1-8e55-4f8f-acfd-b255dee231d2",
       "rows": [
        [
         "4/4",
         "139555"
        ],
        [
         "3/4",
         "14914"
        ],
        [
         "5/4",
         "2874"
        ],
        [
         "1/4",
         "1469"
        ],
        [
         "0/4",
         "2"
        ]
       ],
       "shape": {
        "columns": 1,
        "rows": 5
       }
      },
      "text/plain": [
       "time_signature\n",
       "4/4    139555\n",
       "3/4     14914\n",
       "5/4      2874\n",
       "1/4      1469\n",
       "0/4         2\n",
       "Name: count, dtype: int64"
      ]
     },
     "execution_count": null,
     "metadata": {},
     "output_type": "execute_result"
    }
   ],
   "source": [
    "df['time_signature'].value_counts()"
   ]
  },
  {
   "cell_type": "code",
   "execution_count": null,
   "id": "41cd9330",
   "metadata": {},
   "outputs": [
    {
     "name": "stdout",
     "output_type": "stream",
     "text": [
      "(157343, 18)\n"
     ]
    },
    {
     "data": {
      "application/vnd.microsoft.datawrangler.viewer.v0+json": {
       "columns": [
        {
         "name": "index",
         "rawType": "object",
         "type": "string"
        },
        {
         "name": "popularity",
         "rawType": "float64",
         "type": "float"
        },
        {
         "name": "acousticness",
         "rawType": "float64",
         "type": "float"
        },
        {
         "name": "danceability",
         "rawType": "float64",
         "type": "float"
        },
        {
         "name": "duration_ms",
         "rawType": "float64",
         "type": "float"
        },
        {
         "name": "energy",
         "rawType": "float64",
         "type": "float"
        },
        {
         "name": "instrumentalness",
         "rawType": "float64",
         "type": "float"
        },
        {
         "name": "liveness",
         "rawType": "float64",
         "type": "float"
        },
        {
         "name": "loudness",
         "rawType": "float64",
         "type": "float"
        },
        {
         "name": "speechiness",
         "rawType": "float64",
         "type": "float"
        },
        {
         "name": "tempo",
         "rawType": "float64",
         "type": "float"
        },
        {
         "name": "valence",
         "rawType": "float64",
         "type": "float"
        }
       ],
       "ref": "f92739c4-08e0-4d97-9cc4-d5dfd3a5fad4",
       "rows": [
        [
         "count",
         "157343.0",
         "157343.0",
         "157343.0",
         "157343.0",
         "157343.0",
         "157343.0",
         "157343.0",
         "157343.0",
         "157343.0",
         "157343.0",
         "157343.0"
        ],
        [
         "mean",
         "38.447989424378584",
         "0.3492033027339634",
         "0.5546186973681703",
         "235216.6708147169",
         "0.5724080159098276",
         "0.1773423905284633",
         "0.19425124899105772",
         "-9.500581055401257",
         "0.08656162269691058",
         "119.27234908448423",
         "0.4692311682121226"
        ],
        [
         "std",
         "16.80973900609944",
         "0.34643079519714076",
         "0.18837021798288492",
         "117239.73630859774",
         "0.26783526330554575",
         "0.326627473667917",
         "0.16852332991704236",
         "6.071264492415793",
         "0.09778622343941752",
         "30.963336891610393",
         "0.2674606843868021"
        ],
        [
         "min",
         "0.0",
         "0.0",
         "0.0569",
         "15387.0",
         "2.03e-05",
         "0.0",
         "0.00967",
         "-52.457",
         "0.0222",
         "30.379",
         "0.0"
        ],
        [
         "25%",
         "28.0",
         "0.0335",
         "0.431",
         "181773.0",
         "0.38",
         "0.0",
         "0.0957",
         "-11.658",
         "0.036",
         "94.5415",
         "0.243"
        ],
        [
         "50%",
         "39.0",
         "0.211",
         "0.572",
         "220227.0",
         "0.609",
         "9.27e-05",
         "0.124",
         "-7.688",
         "0.0477",
         "117.992",
         "0.465"
        ],
        [
         "75%",
         "50.0",
         "0.661",
         "0.696",
         "266560.0",
         "0.794",
         "0.112",
         "0.238",
         "-5.429",
         "0.0883",
         "140.013",
         "0.687"
        ],
        [
         "max",
         "100.0",
         "0.996",
         "0.989",
         "5488000.0",
         "0.999",
         "0.999",
         "1.0",
         "3.744",
         "0.965",
         "242.903",
         "1.0"
        ]
       ],
       "shape": {
        "columns": 11,
        "rows": 8
       }
      },
      "text/html": [
       "<div>\n",
       "<style scoped>\n",
       "    .dataframe tbody tr th:only-of-type {\n",
       "        vertical-align: middle;\n",
       "    }\n",
       "\n",
       "    .dataframe tbody tr th {\n",
       "        vertical-align: top;\n",
       "    }\n",
       "\n",
       "    .dataframe thead th {\n",
       "        text-align: right;\n",
       "    }\n",
       "</style>\n",
       "<table border=\"1\" class=\"dataframe\">\n",
       "  <thead>\n",
       "    <tr style=\"text-align: right;\">\n",
       "      <th></th>\n",
       "      <th>popularity</th>\n",
       "      <th>acousticness</th>\n",
       "      <th>danceability</th>\n",
       "      <th>duration_ms</th>\n",
       "      <th>energy</th>\n",
       "      <th>instrumentalness</th>\n",
       "      <th>liveness</th>\n",
       "      <th>loudness</th>\n",
       "      <th>speechiness</th>\n",
       "      <th>tempo</th>\n",
       "      <th>valence</th>\n",
       "    </tr>\n",
       "  </thead>\n",
       "  <tbody>\n",
       "    <tr>\n",
       "      <th>count</th>\n",
       "      <td>157343.000000</td>\n",
       "      <td>157343.000000</td>\n",
       "      <td>157343.000000</td>\n",
       "      <td>1.573430e+05</td>\n",
       "      <td>157343.000000</td>\n",
       "      <td>157343.000000</td>\n",
       "      <td>157343.000000</td>\n",
       "      <td>157343.000000</td>\n",
       "      <td>157343.000000</td>\n",
       "      <td>157343.000000</td>\n",
       "      <td>157343.000000</td>\n",
       "    </tr>\n",
       "    <tr>\n",
       "      <th>mean</th>\n",
       "      <td>38.447989</td>\n",
       "      <td>0.349203</td>\n",
       "      <td>0.554619</td>\n",
       "      <td>2.352167e+05</td>\n",
       "      <td>0.572408</td>\n",
       "      <td>0.177342</td>\n",
       "      <td>0.194251</td>\n",
       "      <td>-9.500581</td>\n",
       "      <td>0.086562</td>\n",
       "      <td>119.272349</td>\n",
       "      <td>0.469231</td>\n",
       "    </tr>\n",
       "    <tr>\n",
       "      <th>std</th>\n",
       "      <td>16.809739</td>\n",
       "      <td>0.346431</td>\n",
       "      <td>0.188370</td>\n",
       "      <td>1.172397e+05</td>\n",
       "      <td>0.267835</td>\n",
       "      <td>0.326627</td>\n",
       "      <td>0.168523</td>\n",
       "      <td>6.071264</td>\n",
       "      <td>0.097786</td>\n",
       "      <td>30.963337</td>\n",
       "      <td>0.267461</td>\n",
       "    </tr>\n",
       "    <tr>\n",
       "      <th>min</th>\n",
       "      <td>0.000000</td>\n",
       "      <td>0.000000</td>\n",
       "      <td>0.056900</td>\n",
       "      <td>1.538700e+04</td>\n",
       "      <td>0.000020</td>\n",
       "      <td>0.000000</td>\n",
       "      <td>0.009670</td>\n",
       "      <td>-52.457000</td>\n",
       "      <td>0.022200</td>\n",
       "      <td>30.379000</td>\n",
       "      <td>0.000000</td>\n",
       "    </tr>\n",
       "    <tr>\n",
       "      <th>25%</th>\n",
       "      <td>28.000000</td>\n",
       "      <td>0.033500</td>\n",
       "      <td>0.431000</td>\n",
       "      <td>1.817730e+05</td>\n",
       "      <td>0.380000</td>\n",
       "      <td>0.000000</td>\n",
       "      <td>0.095700</td>\n",
       "      <td>-11.658000</td>\n",
       "      <td>0.036000</td>\n",
       "      <td>94.541500</td>\n",
       "      <td>0.243000</td>\n",
       "    </tr>\n",
       "    <tr>\n",
       "      <th>50%</th>\n",
       "      <td>39.000000</td>\n",
       "      <td>0.211000</td>\n",
       "      <td>0.572000</td>\n",
       "      <td>2.202270e+05</td>\n",
       "      <td>0.609000</td>\n",
       "      <td>0.000093</td>\n",
       "      <td>0.124000</td>\n",
       "      <td>-7.688000</td>\n",
       "      <td>0.047700</td>\n",
       "      <td>117.992000</td>\n",
       "      <td>0.465000</td>\n",
       "    </tr>\n",
       "    <tr>\n",
       "      <th>75%</th>\n",
       "      <td>50.000000</td>\n",
       "      <td>0.661000</td>\n",
       "      <td>0.696000</td>\n",
       "      <td>2.665600e+05</td>\n",
       "      <td>0.794000</td>\n",
       "      <td>0.112000</td>\n",
       "      <td>0.238000</td>\n",
       "      <td>-5.429000</td>\n",
       "      <td>0.088300</td>\n",
       "      <td>140.013000</td>\n",
       "      <td>0.687000</td>\n",
       "    </tr>\n",
       "    <tr>\n",
       "      <th>max</th>\n",
       "      <td>100.000000</td>\n",
       "      <td>0.996000</td>\n",
       "      <td>0.989000</td>\n",
       "      <td>5.488000e+06</td>\n",
       "      <td>0.999000</td>\n",
       "      <td>0.999000</td>\n",
       "      <td>1.000000</td>\n",
       "      <td>3.744000</td>\n",
       "      <td>0.965000</td>\n",
       "      <td>242.903000</td>\n",
       "      <td>1.000000</td>\n",
       "    </tr>\n",
       "  </tbody>\n",
       "</table>\n",
       "</div>"
      ],
      "text/plain": [
       "          popularity   acousticness   danceability   duration_ms  \\\n",
       "count  157343.000000  157343.000000  157343.000000  1.573430e+05   \n",
       "mean       38.447989       0.349203       0.554619  2.352167e+05   \n",
       "std        16.809739       0.346431       0.188370  1.172397e+05   \n",
       "min         0.000000       0.000000       0.056900  1.538700e+04   \n",
       "25%        28.000000       0.033500       0.431000  1.817730e+05   \n",
       "50%        39.000000       0.211000       0.572000  2.202270e+05   \n",
       "75%        50.000000       0.661000       0.696000  2.665600e+05   \n",
       "max       100.000000       0.996000       0.989000  5.488000e+06   \n",
       "\n",
       "              energy  instrumentalness       liveness       loudness  \\\n",
       "count  157343.000000     157343.000000  157343.000000  157343.000000   \n",
       "mean        0.572408          0.177342       0.194251      -9.500581   \n",
       "std         0.267835          0.326627       0.168523       6.071264   \n",
       "min         0.000020          0.000000       0.009670     -52.457000   \n",
       "25%         0.380000          0.000000       0.095700     -11.658000   \n",
       "50%         0.609000          0.000093       0.124000      -7.688000   \n",
       "75%         0.794000          0.112000       0.238000      -5.429000   \n",
       "max         0.999000          0.999000       1.000000       3.744000   \n",
       "\n",
       "         speechiness          tempo        valence  \n",
       "count  157343.000000  157343.000000  157343.000000  \n",
       "mean        0.086562     119.272349       0.469231  \n",
       "std         0.097786      30.963337       0.267461  \n",
       "min         0.022200      30.379000       0.000000  \n",
       "25%         0.036000      94.541500       0.243000  \n",
       "50%         0.047700     117.992000       0.465000  \n",
       "75%         0.088300     140.013000       0.687000  \n",
       "max         0.965000     242.903000       1.000000  "
      ]
     },
     "execution_count": null,
     "metadata": {},
     "output_type": "execute_result"
    }
   ],
   "source": [
    "df = df[~df['time_signature'].isin(['0/4', '1/4'])]\n",
    "print(df.shape)\n",
    "df.describe()"
   ]
  },
  {
   "cell_type": "markdown",
   "id": "0819ae68",
   "metadata": {},
   "source": [
    "## Outlier Detection"
   ]
  },
  {
   "cell_type": "code",
   "execution_count": null,
   "id": "c64f2945",
   "metadata": {},
   "outputs": [],
   "source": [
    "from sklearn.preprocessing import OneHotEncoder, StandardScaler\n",
    "from sklearn.compose import ColumnTransformer\n",
    "from sklearn.ensemble import IsolationForest\n",
    "from sklearn.decomposition import PCA"
   ]
  },
  {
   "cell_type": "code",
   "execution_count": null,
   "id": "52217fcd",
   "metadata": {},
   "outputs": [
    {
     "name": "stdout",
     "output_type": "stream",
     "text": [
      "(157343, 13)\n"
     ]
    }
   ],
   "source": [
    "X = df[continuous_features + categorical_features]\n",
    "print(X.shape)"
   ]
  },
  {
   "cell_type": "code",
   "execution_count": null,
   "id": "7d483b29",
   "metadata": {},
   "outputs": [],
   "source": [
    "preprocessor = ColumnTransformer(\n",
    "    transformers=[\n",
    "        ('num', StandardScaler(), continuous_features),\n",
    "        ('cat', OneHotEncoder(), categorical_features)\n",
    "    ]\n",
    ")\n",
    "\n",
    "X_transformed = preprocessor.fit_transform(X)"
   ]
  },
  {
   "cell_type": "code",
   "execution_count": null,
   "id": "4c9dc858",
   "metadata": {},
   "outputs": [
    {
     "name": "stdout",
     "output_type": "stream",
     "text": [
      "Number of outliers detected: 15735\n"
     ]
    }
   ],
   "source": [
    "iso_forest = IsolationForest(contamination=0.1, random_state=1)\n",
    "outliers = iso_forest.fit_predict(X_transformed)\n",
    "\n",
    "num_outliers = np.sum(outliers == -1)\n",
    "print(f\"Number of outliers detected: {num_outliers}\")"
   ]
  },
  {
   "cell_type": "code",
   "execution_count": null,
   "id": "f3ea89c1",
   "metadata": {},
   "outputs": [
    {
     "name": "stdout",
     "output_type": "stream",
     "text": [
      "Explained variance by 2D PCA: 42.19%\n"
     ]
    }
   ],
   "source": [
    "pca2D = PCA(n_components=2)\n",
    "X_pca2D = pca2D.fit_transform(X_transformed)\n",
    "pca2D_var = pca2D.explained_variance_ratio_"
   ]
  },
  {
   "cell_type": "code",
   "execution_count": null,
   "id": "4202b88e",
   "metadata": {},
   "outputs": [
    {
     "data": {
      "image/png": "[encoded data removed]",
      "text/plain": [
       "<Figure size 800x600 with 1 Axes>"
      ]
     },
     "metadata": {},
     "output_type": "display_data"
    }
   ],
   "source": [
    "plt.figure(figsize=(8,6))\n",
    "plt.scatter(\n",
    "    X_pca2D[outliers == 1, 0],\n",
    "    X_pca2D[outliers == 1, 1],\n",
    "    label=\"Inliers\",\n",
    "    alpha=0.5,\n",
    "    s=8\n",
    ")\n",
    "plt.scatter(\n",
    "    X_pca2D[outliers == -1, 0],\n",
    "    X_pca2D[outliers == -1, 1],\n",
    "    color=\"red\",\n",
    "    label=\"Outliers\",\n",
    "    alpha=0.5,\n",
    "    s=8\n",
    ")\n",
    "plt.title(\"Isolation Forest Outlier Detection\")\n",
    "plt.xlabel(f\"PC1 ({pca2D_var[0]*100:.1f}% variance)\")\n",
    "plt.ylabel(f\"PC2 ({pca2D_var[1]*100:.1f}% variance)\")\n",
    "plt.legend()\n",
    "plt.grid(True)\n",
    "plt.show()"
   ]
  },
  {
   "cell_type": "code",
   "execution_count": null,
   "id": "d0acbe40",
   "metadata": {},
   "outputs": [
    {
     "name": "stdout",
     "output_type": "stream",
     "text": [
      "(141608, 18)\n"
     ]
    },
    {
     "data": {
      "application/vnd.microsoft.datawrangler.viewer.v0+json": {
       "columns": [
        {
         "name": "index",
         "rawType": "object",
         "type": "string"
        },
        {
         "name": "popularity",
         "rawType": "float64",
         "type": "float"
        },
        {
         "name": "acousticness",
         "rawType": "float64",
         "type": "float"
        },
        {
         "name": "danceability",
         "rawType": "float64",
         "type": "float"
        },
        {
         "name": "duration_ms",
         "rawType": "float64",
         "type": "float"
        },
        {
         "name": "energy",
         "rawType": "float64",
         "type": "float"
        },
        {
         "name": "instrumentalness",
         "rawType": "float64",
         "type": "float"
        },
        {
         "name": "liveness",
         "rawType": "float64",
         "type": "float"
        },
        {
         "name": "loudness",
         "rawType": "float64",
         "type": "float"
        },
        {
         "name": "speechiness",
         "rawType": "float64",
         "type": "float"
        },
        {
         "name": "tempo",
         "rawType": "float64",
         "type": "float"
        },
        {
         "name": "valence",
         "rawType": "float64",
         "type": "float"
        }
       ],
       "ref": "53899fc4-321b-459c-8986-74df432bf357",
       "rows": [
        [
         "count",
         "141608.0",
         "141608.0",
         "141608.0",
         "141608.0",
         "141608.0",
         "141608.0",
         "141608.0",
         "141608.0",
         "141608.0",
         "141608.0",
         "141608.0"
        ],
        [
         "mean",
         "39.388410259307385",
         "0.3107331275497147",
         "0.5755151855827354",
         "235384.97125868595",
         "0.604299955009604",
         "0.1417380194477713",
         "0.19397472508615332",
         "-8.581267350714647",
         "0.08526014843794137",
         "120.06293730580192",
         "0.49131539249194967"
        ],
        [
         "std",
         "16.459702161418075",
         "0.32415529035438945",
         "0.17462396199353009",
         "107457.92037714686",
         "0.2472118173382439",
         "0.2941311428296569",
         "0.16581065802643338",
         "4.826957370296041",
         "0.08962644720228063",
         "30.16896060748072",
         "0.25892700672141694"
        ],
        [
         "min",
         "0.0",
         "0.0",
         "0.057",
         "15387.0",
         "0.000243",
         "0.0",
         "0.00967",
         "-52.457",
         "0.0222",
         "31.689",
         "0.0"
        ],
        [
         "25%",
         "29.0",
         "0.028",
         "0.461",
         "184920.0",
         "0.433",
         "0.0",
         "0.0958",
         "-10.613",
         "0.0357",
         "95.22475",
         "0.28"
        ],
        [
         "50%",
         "40.0",
         "0.175",
         "0.589",
         "221200.0",
         "0.636",
         "4.71e-05",
         "0.126",
         "-7.324",
         "0.0486",
         "119.0075",
         "0.491"
        ],
        [
         "75%",
         "50.0",
         "0.558",
         "0.706",
         "265760.0",
         "0.807",
         "0.0313",
         "0.241",
         "-5.27875",
         "0.090225",
         "140.036",
         "0.701"
        ],
        [
         "max",
         "100.0",
         "0.996",
         "0.989",
         "5488000.0",
         "0.999",
         "0.998",
         "1.0",
         "3.744",
         "0.962",
         "236.799",
         "1.0"
        ]
       ],
       "shape": {
        "columns": 11,
        "rows": 8
       }
      },
      "text/html": [
       "<div>\n",
       "<style scoped>\n",
       "    .dataframe tbody tr th:only-of-type {\n",
       "        vertical-align: middle;\n",
       "    }\n",
       "\n",
       "    .dataframe tbody tr th {\n",
       "        vertical-align: top;\n",
       "    }\n",
       "\n",
       "    .dataframe thead th {\n",
       "        text-align: right;\n",
       "    }\n",
       "</style>\n",
       "<table border=\"1\" class=\"dataframe\">\n",
       "  <thead>\n",
       "    <tr style=\"text-align: right;\">\n",
       "      <th></th>\n",
       "      <th>popularity</th>\n",
       "      <th>acousticness</th>\n",
       "      <th>danceability</th>\n",
       "      <th>duration_ms</th>\n",
       "      <th>energy</th>\n",
       "      <th>instrumentalness</th>\n",
       "      <th>liveness</th>\n",
       "      <th>loudness</th>\n",
       "      <th>speechiness</th>\n",
       "      <th>tempo</th>\n",
       "      <th>valence</th>\n",
       "    </tr>\n",
       "  </thead>\n",
       "  <tbody>\n",
       "    <tr>\n",
       "      <th>count</th>\n",
       "      <td>141608.000000</td>\n",
       "      <td>141608.000000</td>\n",
       "      <td>141608.000000</td>\n",
       "      <td>1.416080e+05</td>\n",
       "      <td>141608.000000</td>\n",
       "      <td>141608.000000</td>\n",
       "      <td>141608.000000</td>\n",
       "      <td>141608.000000</td>\n",
       "      <td>141608.000000</td>\n",
       "      <td>141608.000000</td>\n",
       "      <td>141608.000000</td>\n",
       "    </tr>\n",
       "    <tr>\n",
       "      <th>mean</th>\n",
       "      <td>39.388410</td>\n",
       "      <td>0.310733</td>\n",
       "      <td>0.575515</td>\n",
       "      <td>2.353850e+05</td>\n",
       "      <td>0.604300</td>\n",
       "      <td>0.141738</td>\n",
       "      <td>0.193975</td>\n",
       "      <td>-8.581267</td>\n",
       "      <td>0.085260</td>\n",
       "      <td>120.062937</td>\n",
       "      <td>0.491315</td>\n",
       "    </tr>\n",
       "    <tr>\n",
       "      <th>std</th>\n",
       "      <td>16.459702</td>\n",
       "      <td>0.324155</td>\n",
       "      <td>0.174624</td>\n",
       "      <td>1.074579e+05</td>\n",
       "      <td>0.247212</td>\n",
       "      <td>0.294131</td>\n",
       "      <td>0.165811</td>\n",
       "      <td>4.826957</td>\n",
       "      <td>0.089626</td>\n",
       "      <td>30.168961</td>\n",
       "      <td>0.258927</td>\n",
       "    </tr>\n",
       "    <tr>\n",
       "      <th>min</th>\n",
       "      <td>0.000000</td>\n",
       "      <td>0.000000</td>\n",
       "      <td>0.057000</td>\n",
       "      <td>1.538700e+04</td>\n",
       "      <td>0.000243</td>\n",
       "      <td>0.000000</td>\n",
       "      <td>0.009670</td>\n",
       "      <td>-52.457000</td>\n",
       "      <td>0.022200</td>\n",
       "      <td>31.689000</td>\n",
       "      <td>0.000000</td>\n",
       "    </tr>\n",
       "    <tr>\n",
       "      <th>25%</th>\n",
       "      <td>29.000000</td>\n",
       "      <td>0.028000</td>\n",
       "      <td>0.461000</td>\n",
       "      <td>1.849200e+05</td>\n",
       "      <td>0.433000</td>\n",
       "      <td>0.000000</td>\n",
       "      <td>0.095800</td>\n",
       "      <td>-10.613000</td>\n",
       "      <td>0.035700</td>\n",
       "      <td>95.224750</td>\n",
       "      <td>0.280000</td>\n",
       "    </tr>\n",
       "    <tr>\n",
       "      <th>50%</th>\n",
       "      <td>40.000000</td>\n",
       "      <td>0.175000</td>\n",
       "      <td>0.589000</td>\n",
       "      <td>2.212000e+05</td>\n",
       "      <td>0.636000</td>\n",
       "      <td>0.000047</td>\n",
       "      <td>0.126000</td>\n",
       "      <td>-7.324000</td>\n",
       "      <td>0.048600</td>\n",
       "      <td>119.007500</td>\n",
       "      <td>0.491000</td>\n",
       "    </tr>\n",
       "    <tr>\n",
       "      <th>75%</th>\n",
       "      <td>50.000000</td>\n",
       "      <td>0.558000</td>\n",
       "      <td>0.706000</td>\n",
       "      <td>2.657600e+05</td>\n",
       "      <td>0.807000</td>\n",
       "      <td>0.031300</td>\n",
       "      <td>0.241000</td>\n",
       "      <td>-5.278750</td>\n",
       "      <td>0.090225</td>\n",
       "      <td>140.036000</td>\n",
       "      <td>0.701000</td>\n",
       "    </tr>\n",
       "    <tr>\n",
       "      <th>max</th>\n",
       "      <td>100.000000</td>\n",
       "      <td>0.996000</td>\n",
       "      <td>0.989000</td>\n",
       "      <td>5.488000e+06</td>\n",
       "      <td>0.999000</td>\n",
       "      <td>0.998000</td>\n",
       "      <td>1.000000</td>\n",
       "      <td>3.744000</td>\n",
       "      <td>0.962000</td>\n",
       "      <td>236.799000</td>\n",
       "      <td>1.000000</td>\n",
       "    </tr>\n",
       "  </tbody>\n",
       "</table>\n",
       "</div>"
      ],
      "text/plain": [
       "          popularity   acousticness   danceability   duration_ms  \\\n",
       "count  141608.000000  141608.000000  141608.000000  1.416080e+05   \n",
       "mean       39.388410       0.310733       0.575515  2.353850e+05   \n",
       "std        16.459702       0.324155       0.174624  1.074579e+05   \n",
       "min         0.000000       0.000000       0.057000  1.538700e+04   \n",
       "25%        29.000000       0.028000       0.461000  1.849200e+05   \n",
       "50%        40.000000       0.175000       0.589000  2.212000e+05   \n",
       "75%        50.000000       0.558000       0.706000  2.657600e+05   \n",
       "max       100.000000       0.996000       0.989000  5.488000e+06   \n",
       "\n",
       "              energy  instrumentalness       liveness       loudness  \\\n",
       "count  141608.000000     141608.000000  141608.000000  141608.000000   \n",
       "mean        0.604300          0.141738       0.193975      -8.581267   \n",
       "std         0.247212          0.294131       0.165811       4.826957   \n",
       "min         0.000243          0.000000       0.009670     -52.457000   \n",
       "25%         0.433000          0.000000       0.095800     -10.613000   \n",
       "50%         0.636000          0.000047       0.126000      -7.324000   \n",
       "75%         0.807000          0.031300       0.241000      -5.278750   \n",
       "max         0.999000          0.998000       1.000000       3.744000   \n",
       "\n",
       "         speechiness          tempo        valence  \n",
       "count  141608.000000  141608.000000  141608.000000  \n",
       "mean        0.085260     120.062937       0.491315  \n",
       "std         0.089626      30.168961       0.258927  \n",
       "min         0.022200      31.689000       0.000000  \n",
       "25%         0.035700      95.224750       0.280000  \n",
       "50%         0.048600     119.007500       0.491000  \n",
       "75%         0.090225     140.036000       0.701000  \n",
       "max         0.962000     236.799000       1.000000  "
      ]
     },
     "execution_count": null,
     "metadata": {},
     "output_type": "execute_result"
    }
   ],
   "source": [
    "df_cleaned = df[outliers == 1].reset_index(drop=True)\n",
    "print(df_cleaned.shape)\n",
    "df_cleaned.describe()"
   ]
  },
  {
   "cell_type": "code",
   "execution_count": null,
   "id": "156d33fe",
   "metadata": {},
   "outputs": [],
   "source": [
    "df_cleaned.to_csv('data/spotify-features_cleaned.csv', index=False)"
   ]
  }
 ],
 "metadata": {
  "kernelspec": {
   "display_name": ".venv",
   "language": "python",
   "name": "python3"
  },
  "language_info": {
   "codemirror_mode": {
    "name": "ipython",
    "version": 3
   },
   "file_extension": ".py",
   "mimetype": "text/x-python",
   "name": "python",
   "nbconvert_exporter": "python",
   "pygments_lexer": "ipython3"
  }
 },
 "nbformat": 4,
 "nbformat_minor": 5
}
