{
 "cells": [
  {
   "cell_type": "code",
   "execution_count": null,
   "id": "9a4fb88a",
   "metadata": {},
   "outputs": [],
   "source": [
    "import pandas as pd\n",
    "import numpy as np\n",
    "import matplotlib.pyplot as plt"
   ]
  },
  {
   "cell_type": "code",
   "execution_count": null,
   "id": "f9704c5e",
   "metadata": {},
   "outputs": [
    {
     "name": "stdout",
     "output_type": "stream",
     "text": [
      "(232725, 18)\n"
     ]
    },
    {
     "data": {
      "application/vnd.microsoft.datawrangler.viewer.v0+json": {
       "columns": [
        {
         "name": "index",
         "rawType": "int64",
         "type": "integer"
        },
        {
         "name": "genre",
         "rawType": "object",
         "type": "string"
        },
        {
         "name": "artist_name",
         "rawType": "object",
         "type": "string"
        },
        {
         "name": "track_name",
         "rawType": "object",
         "type": "string"
        },
        {
         "name": "track_id",
         "rawType": "object",
         "type": "string"
        },
        {
         "name": "popularity",
         "rawType": "float64",
         "type": "float"
        },
        {
         "name": "acousticness",
         "rawType": "float64",
         "type": "float"
        },
        {
         "name": "danceability",
         "rawType": "float64",
         "type": "float"
        },
        {
         "name": "duration_ms",
         "rawType": "float64",
         "type": "float"
        },
        {
         "name": "energy",
         "rawType": "int64",
         "type": "integer"
        },
        {
         "name": "instrumentalness",
         "rawType": "object",
         "type": "string"
        },
        {
         "name": "key",
         "rawType": "object",
         "type": "string"
        },
        {
         "name": "liveness",
         "rawType": "int64",
         "type": "integer"
        },
        {
         "name": "loudness",
         "rawType": "int64",
         "type": "integer"
        },
        {
         "name": "mode",
         "rawType": "object",
         "type": "string"
        },
        {
         "name": "speechiness",
         "rawType": "int64",
         "type": "integer"
        },
        {
         "name": "tempo",
         "rawType": "float64",
         "type": "float"
        },
        {
         "name": "time_signature",
         "rawType": "object",
         "type": "string"
        },
        {
         "name": "valence",
         "rawType": "int64",
         "type": "integer"
        }
       ],
       "ref": "3e3b4b8a-f835-4ccf-9dcb-f5577e862f07",
       "rows": [
        [
         "0",
         "Movie",
         "Henri Salvador",
         "C'est beau de faire un Show",
         "0BRjO6ga9RKCKjfDqeFgWV",
         "0.0",
         "611.0",
         "389.0",
         "99373.0",
         "91",
         "0",
         "C#",
         "346",
         "-1828",
         "Major",
         "525",
         "166969.0",
         "4-4-2025",
         "814"
        ],
        [
         "1",
         "Movie",
         "Martin & les fées",
         "Perdu d'avance (par Gad Elmaleh)",
         "0BjC1NfoEOOusryehmNudP",
         "1.0",
         "246.0",
         "59.0",
         "137373.0",
         "737",
         "0",
         "F#",
         "151",
         "-5559",
         "Minor",
         "868",
         "174003.0",
         "4-4-2025",
         "816"
        ],
        [
         "2",
         "Movie",
         "Joseph Williams",
         "Don't Let Me Be Lonely Tonight",
         "0CoSDzoNIKCRs124s9uTVy",
         "3.0",
         "952.0",
         "663.0",
         "170267.0",
         "131",
         "0",
         "C",
         "103",
         "-13879",
         "Minor",
         "362",
         "99488.0",
         "5-4-2025",
         "368"
        ],
        [
         "3",
         "Movie",
         "Henri Salvador",
         "Dis-moi Monsieur Gordon Cooper",
         "0Gc6TVm52BwZD07Ki6tIvf",
         "0.0",
         "703.0",
         "24.0",
         "152427.0",
         "326",
         "0",
         "C#",
         "985",
         "-12178",
         "Major",
         "395",
         "171758.0",
         "4-4-2025",
         "227"
        ],
        [
         "4",
         "Movie",
         "Fabien Nataf",
         "Ouverture",
         "0IuslXpMROHdEPvSl1fTQK",
         "4.0",
         "95.0",
         "331.0",
         "82625.0",
         "225",
         "123",
         "F",
         "202",
         "-2115",
         "Major",
         "456",
         "140576.0",
         "4-4-2025",
         "39"
        ]
       ],
       "shape": {
        "columns": 18,
        "rows": 5
       }
      },
      "text/html": [
       "<div>\n",
       "<style scoped>\n",
       "    .dataframe tbody tr th:only-of-type {\n",
       "        vertical-align: middle;\n",
       "    }\n",
       "\n",
       "    .dataframe tbody tr th {\n",
       "        vertical-align: top;\n",
       "    }\n",
       "\n",
       "    .dataframe thead th {\n",
       "        text-align: right;\n",
       "    }\n",
       "</style>\n",
       "<table border=\"1\" class=\"dataframe\">\n",
       "  <thead>\n",
       "    <tr style=\"text-align: right;\">\n",
       "      <th></th>\n",
       "      <th>genre</th>\n",
       "      <th>artist_name</th>\n",
       "      <th>track_name</th>\n",
       "      <th>track_id</th>\n",
       "      <th>popularity</th>\n",
       "      <th>acousticness</th>\n",
       "      <th>danceability</th>\n",
       "      <th>duration_ms</th>\n",
       "      <th>energy</th>\n",
       "      <th>instrumentalness</th>\n",
       "      <th>key</th>\n",
       "      <th>liveness</th>\n",
       "      <th>loudness</th>\n",
       "      <th>mode</th>\n",
       "      <th>speechiness</th>\n",
       "      <th>tempo</th>\n",
       "      <th>time_signature</th>\n",
       "      <th>valence</th>\n",
       "    </tr>\n",
       "  </thead>\n",
       "  <tbody>\n",
       "    <tr>\n",
       "      <th>0</th>\n",
       "      <td>Movie</td>\n",
       "      <td>Henri Salvador</td>\n",
       "      <td>C'est beau de faire un Show</td>\n",
       "      <td>0BRjO6ga9RKCKjfDqeFgWV</td>\n",
       "      <td>0.0</td>\n",
       "      <td>611.0</td>\n",
       "      <td>389.0</td>\n",
       "      <td>99373.0</td>\n",
       "      <td>91</td>\n",
       "      <td>0</td>\n",
       "      <td>C#</td>\n",
       "      <td>346</td>\n",
       "      <td>-1828</td>\n",
       "      <td>Major</td>\n",
       "      <td>525</td>\n",
       "      <td>166969.0</td>\n",
       "      <td>4-4-2025</td>\n",
       "      <td>814</td>\n",
       "    </tr>\n",
       "    <tr>\n",
       "      <th>1</th>\n",
       "      <td>Movie</td>\n",
       "      <td>Martin &amp; les fées</td>\n",
       "      <td>Perdu d'avance (par Gad Elmaleh)</td>\n",
       "      <td>0BjC1NfoEOOusryehmNudP</td>\n",
       "      <td>1.0</td>\n",
       "      <td>246.0</td>\n",
       "      <td>59.0</td>\n",
       "      <td>137373.0</td>\n",
       "      <td>737</td>\n",
       "      <td>0</td>\n",
       "      <td>F#</td>\n",
       "      <td>151</td>\n",
       "      <td>-5559</td>\n",
       "      <td>Minor</td>\n",
       "      <td>868</td>\n",
       "      <td>174003.0</td>\n",
       "      <td>4-4-2025</td>\n",
       "      <td>816</td>\n",
       "    </tr>\n",
       "    <tr>\n",
       "      <th>2</th>\n",
       "      <td>Movie</td>\n",
       "      <td>Joseph Williams</td>\n",
       "      <td>Don't Let Me Be Lonely Tonight</td>\n",
       "      <td>0CoSDzoNIKCRs124s9uTVy</td>\n",
       "      <td>3.0</td>\n",
       "      <td>952.0</td>\n",
       "      <td>663.0</td>\n",
       "      <td>170267.0</td>\n",
       "      <td>131</td>\n",
       "      <td>0</td>\n",
       "      <td>C</td>\n",
       "      <td>103</td>\n",
       "      <td>-13879</td>\n",
       "      <td>Minor</td>\n",
       "      <td>362</td>\n",
       "      <td>99488.0</td>\n",
       "      <td>5-4-2025</td>\n",
       "      <td>368</td>\n",
       "    </tr>\n",
       "    <tr>\n",
       "      <th>3</th>\n",
       "      <td>Movie</td>\n",
       "      <td>Henri Salvador</td>\n",
       "      <td>Dis-moi Monsieur Gordon Cooper</td>\n",
       "      <td>0Gc6TVm52BwZD07Ki6tIvf</td>\n",
       "      <td>0.0</td>\n",
       "      <td>703.0</td>\n",
       "      <td>24.0</td>\n",
       "      <td>152427.0</td>\n",
       "      <td>326</td>\n",
       "      <td>0</td>\n",
       "      <td>C#</td>\n",
       "      <td>985</td>\n",
       "      <td>-12178</td>\n",
       "      <td>Major</td>\n",
       "      <td>395</td>\n",
       "      <td>171758.0</td>\n",
       "      <td>4-4-2025</td>\n",
       "      <td>227</td>\n",
       "    </tr>\n",
       "    <tr>\n",
       "      <th>4</th>\n",
       "      <td>Movie</td>\n",
       "      <td>Fabien Nataf</td>\n",
       "      <td>Ouverture</td>\n",
       "      <td>0IuslXpMROHdEPvSl1fTQK</td>\n",
       "      <td>4.0</td>\n",
       "      <td>95.0</td>\n",
       "      <td>331.0</td>\n",
       "      <td>82625.0</td>\n",
       "      <td>225</td>\n",
       "      <td>123</td>\n",
       "      <td>F</td>\n",
       "      <td>202</td>\n",
       "      <td>-2115</td>\n",
       "      <td>Major</td>\n",
       "      <td>456</td>\n",
       "      <td>140576.0</td>\n",
       "      <td>4-4-2025</td>\n",
       "      <td>39</td>\n",
       "    </tr>\n",
       "  </tbody>\n",
       "</table>\n",
       "</div>"
      ],
      "text/plain": [
       "   genre        artist_name                        track_name  \\\n",
       "0  Movie     Henri Salvador       C'est beau de faire un Show   \n",
       "1  Movie  Martin & les fées  Perdu d'avance (par Gad Elmaleh)   \n",
       "2  Movie    Joseph Williams    Don't Let Me Be Lonely Tonight   \n",
       "3  Movie     Henri Salvador    Dis-moi Monsieur Gordon Cooper   \n",
       "4  Movie       Fabien Nataf                         Ouverture   \n",
       "\n",
       "                 track_id  popularity  acousticness  danceability  \\\n",
       "0  0BRjO6ga9RKCKjfDqeFgWV         0.0         611.0         389.0   \n",
       "1  0BjC1NfoEOOusryehmNudP         1.0         246.0          59.0   \n",
       "2  0CoSDzoNIKCRs124s9uTVy         3.0         952.0         663.0   \n",
       "3  0Gc6TVm52BwZD07Ki6tIvf         0.0         703.0          24.0   \n",
       "4  0IuslXpMROHdEPvSl1fTQK         4.0          95.0         331.0   \n",
       "\n",
       "   duration_ms  energy instrumentalness key  liveness  loudness   mode  \\\n",
       "0      99373.0      91                0  C#       346     -1828  Major   \n",
       "1     137373.0     737                0  F#       151     -5559  Minor   \n",
       "2     170267.0     131                0   C       103    -13879  Minor   \n",
       "3     152427.0     326                0  C#       985    -12178  Major   \n",
       "4      82625.0     225              123   F       202     -2115  Major   \n",
       "\n",
       "   speechiness     tempo time_signature  valence  \n",
       "0          525  166969.0       4-4-2025      814  \n",
       "1          868  174003.0       4-4-2025      816  \n",
       "2          362   99488.0       5-4-2025      368  \n",
       "3          395  171758.0       4-4-2025      227  \n",
       "4          456  140576.0       4-4-2025       39  "
      ]
     },
     "execution_count": null,
     "metadata": {},
     "output_type": "execute_result"
    }
   ],
   "source": [
    "df = pd.read_csv('data/spotify-features_adjusted.csv', sep=';')\n",
    "\n",
    "print(df.shape)\n",
    "df.head()"
   ]
  }
 ],
 "metadata": {
  "kernelspec": {
   "display_name": ".venv",
   "language": "python",
   "name": "python3"
  },
  "language_info": {
   "codemirror_mode": {
    "name": "ipython",
    "version": 3
   },
   "file_extension": ".py",
   "mimetype": "text/x-python",
   "name": "python",
   "nbconvert_exporter": "python",
   "pygments_lexer": "ipython3"
  }
 },
 "nbformat": 4,
 "nbformat_minor": 5
}
